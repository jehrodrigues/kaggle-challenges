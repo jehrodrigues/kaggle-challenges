{
 "cells": [
  {
   "cell_type": "markdown",
   "metadata": {},
   "source": [
    "## Busca Semântica"
   ]
  },
  {
   "cell_type": "code",
   "execution_count": 1,
   "metadata": {},
   "outputs": [],
   "source": [
    "from gensim.models import KeyedVectors"
   ]
  },
  {
   "cell_type": "code",
   "execution_count": 2,
   "metadata": {},
   "outputs": [],
   "source": [
    "#Baixar em http://143.107.183.175:22980/download.php?file=embeddings/glove/glove_s300.zip\n",
    "outp = \"./model/glove_s300.txt\""
   ]
  },
  {
   "cell_type": "code",
   "execution_count": 3,
   "metadata": {},
   "outputs": [],
   "source": [
    "model = KeyedVectors.load_word2vec_format(outp, unicode_errors=\"ignore\")"
   ]
  },
  {
   "cell_type": "code",
   "execution_count": 4,
   "metadata": {},
   "outputs": [
    {
     "name": "stdout",
     "output_type": "stream",
     "text": [
      "Vocabulary Size: 929605\n"
     ]
    }
   ],
   "source": [
    "print(\"Vocabulary Size: {0}\".format(len(model.vocab)))"
   ]
  },
  {
   "cell_type": "code",
   "execution_count": 88,
   "metadata": {},
   "outputs": [],
   "source": [
    "titles = ['Flor anis Dior 250ml',\n",
    "          'Livro Harry Potter', \n",
    "          'Ferro passar black and decker',\n",
    "          'Fogão Brastemp branco',\n",
    "          'iPhone cinza 128GB',\n",
    "         'Galaxy S10 preto edge',\n",
    "         'Dell inspiron core i7 1TB',\n",
    "         'Google pixel 4',\n",
    "         'Geladeira inox',\n",
    "         'Balcão branco']\n",
    "\n",
    "query = 'refrigerador'"
   ]
  },
  {
   "cell_type": "code",
   "execution_count": 89,
   "metadata": {},
   "outputs": [
    {
     "name": "stdout",
     "output_type": "stream",
     "text": [
      "[('fiime', 0.37334102392196655), ('sintã©tico', 0.3659273386001587), ('rastelo', 0.3619216978549957), ('atiçador', 0.3588796555995941), ('holofote', 0.35207676887512207), ('nenúfar', 0.34375855326652527), ('formão', 0.3421590328216553), ('lavatório', 0.336711049079895), ('bezoar', 0.3359711170196533), ('fronteiro', 0.33544421195983887)]\n"
     ]
    }
   ],
   "source": [
    "print(model.most_similar(positive=['aparador']))"
   ]
  },
  {
   "cell_type": "code",
   "execution_count": 90,
   "metadata": {},
   "outputs": [
    {
     "name": "stdout",
     "output_type": "stream",
     "text": [
      "0.52350783\n"
     ]
    }
   ],
   "source": [
    "print(model.similarity('perfume', 'fragrância'))"
   ]
  },
  {
   "cell_type": "code",
   "execution_count": 91,
   "metadata": {},
   "outputs": [
    {
     "name": "stdout",
     "output_type": "stream",
     "text": [
      "Flor anis Dior 250ml\n",
      "-0.027208464\n",
      "0.10212897\n",
      "0.09655605\n",
      "***********************\n",
      "0.057158851996064186\n",
      "\n",
      "\n",
      "Livro Harry Potter\n",
      "-0.04676304\n",
      "0.078888744\n",
      "0.033998776\n",
      "***********************\n",
      "0.02204149340589841\n",
      "\n",
      "\n",
      "Ferro passar black and decker\n",
      "0.009556576\n",
      "0.016251732\n",
      "-0.11776272\n",
      "-0.05093999\n",
      "0.108115666\n",
      "***********************\n",
      "-0.006955747492611408\n",
      "\n",
      "\n",
      "Fogão Brastemp branco\n",
      "0.35096\n",
      "0.13422044\n",
      "0.03342125\n",
      "***********************\n",
      "0.17286722362041473\n",
      "\n",
      "\n",
      "iPhone cinza 128GB\n",
      "0.047160696\n",
      "0.049236726\n",
      "***********************\n",
      "0.04819871112704277\n",
      "\n",
      "\n",
      "Galaxy S10 preto edge\n",
      "0.07475164\n",
      "0.01441626\n",
      "-0.06329393\n",
      "***********************\n",
      "0.008624657057225704\n",
      "\n",
      "\n",
      "Dell inspiron core i7 1TB\n",
      "0.036807187\n",
      "-0.054302547\n",
      "-0.113122985\n",
      "***********************\n",
      "-0.043539448330799736\n",
      "\n",
      "\n",
      "Google pixel 4\n",
      "0.025995065\n",
      "0.01707545\n",
      "***********************\n",
      "0.021535256877541542\n",
      "\n",
      "\n",
      "Geladeira inox\n",
      "0.3593756\n",
      "0.13430405\n",
      "***********************\n",
      "0.24683982133865356\n",
      "\n",
      "\n",
      "Balcão branco\n",
      "0.10402171\n",
      "0.03342125\n",
      "***********************\n",
      "0.0687214806675911\n",
      "\n",
      "\n"
     ]
    }
   ],
   "source": [
    "for title in titles:\n",
    "    cont = 0\n",
    "    vsentence = 0\n",
    "    words = []\n",
    "    print(title)\n",
    "    words = title.lower().split(' ')\n",
    "    for word in words:\n",
    "        if word in model.vocab:\n",
    "            print(model.similarity(word, query.lower()))\n",
    "            vsentence = vsentence + float(model.similarity(word, query.lower()))\n",
    "            cont = cont + 1\n",
    "    vsentence = vsentence / cont\n",
    "    print('***********************')\n",
    "    print(vsentence)\n",
    "    print('\\n')"
   ]
  },
  {
   "cell_type": "code",
   "execution_count": null,
   "metadata": {},
   "outputs": [],
   "source": []
  }
 ],
 "metadata": {
  "kernelspec": {
   "display_name": "Python 3",
   "language": "python",
   "name": "python3"
  },
  "language_info": {
   "codemirror_mode": {
    "name": "ipython",
    "version": 3
   },
   "file_extension": ".py",
   "mimetype": "text/x-python",
   "name": "python",
   "nbconvert_exporter": "python",
   "pygments_lexer": "ipython3",
   "version": "3.6.8"
  }
 },
 "nbformat": 4,
 "nbformat_minor": 2
}
